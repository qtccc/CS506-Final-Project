{
 "cells": [
  {
   "cell_type": "code",
   "execution_count": 1,
   "metadata": {},
   "outputs": [
    {
     "name": "stdout",
     "output_type": "stream",
     "text": [
      "Processed data has been saved to 'processed_data.csv'\n"
     ]
    }
   ],
   "source": [
    "import pandas as pd\n",
    "import glob\n",
    "\n",
    "# Path to the folder containing all monthly CSV files (update as needed)\n",
    "file_paths = glob.glob(\"data/*.csv\")\n",
    "\n",
    "# Initialize an empty list to store each monthly dataframe\n",
    "dataframes = []\n",
    "\n",
    "# Process each file individually\n",
    "for file_path in file_paths:\n",
    "    # Load each file into a dataframe\n",
    "    df = pd.read_csv(file_path)\n",
    "    \n",
    "    # Convert FlightDate to datetime format\n",
    "    df['FlightDate'] = pd.to_datetime(df['FlightDate'], errors='coerce', format='%m/%d/%y')\n",
    "    \n",
    "    # Append the dataframe to the list\n",
    "    dataframes.append(df)\n",
    "\n",
    "# Concatenate all dataframes into a single dataframe\n",
    "combined_df = pd.concat(dataframes, ignore_index=True)\n",
    "\n",
    "# Fill missing values in delay columns with zeros\n",
    "delay_cols = ['DepDelayMinutes', 'CarrierDelay', 'WeatherDelay', 'NASDelay', 'SecurityDelay', 'LateAircraftDelay']\n",
    "combined_df[delay_cols] = combined_df[delay_cols].fillna(0)\n",
    "\n",
    "# Fill missing values in the CancellationCode column with a placeholder\n",
    "combined_df['CancellationCode'] = combined_df['CancellationCode'].fillna(\"NotCancelled\")\n",
    "\n",
    "# Save the processed data to a CSV file\n",
    "combined_df.to_csv(\"processed_data.csv\", index=False)\n",
    "\n",
    "print(\"Processed data has been saved to 'processed_data.csv'\")\n"
   ]
  }
 ],
 "metadata": {
  "kernelspec": {
   "display_name": "Python 3",
   "language": "python",
   "name": "python3"
  },
  "language_info": {
   "codemirror_mode": {
    "name": "ipython",
    "version": 3
   },
   "file_extension": ".py",
   "mimetype": "text/x-python",
   "name": "python",
   "nbconvert_exporter": "python",
   "pygments_lexer": "ipython3",
   "version": "3.12.1"
  }
 },
 "nbformat": 4,
 "nbformat_minor": 2
}
